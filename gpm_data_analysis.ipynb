{
 "cells": [
  {
   "cell_type": "code",
   "execution_count": 2,
   "id": "efbf776f",
   "metadata": {},
   "outputs": [],
   "source": [
    "import xarray as xr\n",
    "import numpy as np"
   ]
  },
  {
   "cell_type": "markdown",
   "id": "41f86ca3",
   "metadata": {},
   "source": [
    "1. need to find total mean of 22 years \n",
    "2. need to find total mean of each year.\n",
    "3. sub total mean of 22 y from each yearly mean, find standardized anomaly\n",
    "4. for ctcz and nino3.4"
   ]
  },
  {
   "cell_type": "code",
   "execution_count": 2,
   "id": "461d607c",
   "metadata": {},
   "outputs": [],
   "source": [
    "path = '/home/amal/dir/gpmdaily/'"
   ]
  },
  {
   "cell_type": "code",
   "execution_count": 3,
   "id": "b9044310",
   "metadata": {},
   "outputs": [],
   "source": [
    "sam = xr.open_dataset('/home/amal/dir/gpmdaily/2001/3B-DAY.MS.MRG.3IMERG.20010603-S000000-E235959.V06.nc4')"
   ]
  },
  {
   "cell_type": "code",
   "execution_count": 4,
   "id": "9445f8c1",
   "metadata": {},
   "outputs": [],
   "source": [
    "sample = sam.precipitationCal[0,:,:].sel(lat=slice(15, 25), lon=slice(75, 85)).values"
   ]
  },
  {
   "cell_type": "code",
   "execution_count": 5,
   "id": "b394edff",
   "metadata": {},
   "outputs": [
    {
     "data": {
      "text/plain": [
       "8.350665"
      ]
     },
     "execution_count": 5,
     "metadata": {},
     "output_type": "execute_result"
    }
   ],
   "source": [
    "np.mean(sample)"
   ]
  },
  {
   "cell_type": "markdown",
   "id": "4296458e",
   "metadata": {},
   "source": [
    "### CTCZ"
   ]
  },
  {
   "cell_type": "code",
   "execution_count": 6,
   "id": "73f5f17a",
   "metadata": {},
   "outputs": [],
   "source": [
    "import os\n",
    "import fnmatch"
   ]
  },
  {
   "cell_type": "code",
   "execution_count": 7,
   "id": "5274f1c0",
   "metadata": {},
   "outputs": [],
   "source": [
    "def gen_find_files_ct(filepatt, top):\n",
    "    \n",
    "    for path, dirlist, filelist in os.walk(top):\n",
    "        for name in fnmatch.filter(filelist, filepatt):\n",
    "            yield os.path.join(path, name)\n",
    "\n",
    "def gen_opener_ct(filenames):\n",
    "    \n",
    "    for filename in filenames:\n",
    "        if filename.endswith('.nc4'):\n",
    "            fc = xr.open_dataset(filename)                    \n",
    "            mean_ct = np.mean(fc.precipitationCal[0,:,:].sel(lat=slice(15, 25), lon=slice(75, 85)).values)\n",
    "        \n",
    "        yield mean_ct\n",
    "        "
   ]
  },
  {
   "cell_type": "code",
   "execution_count": 8,
   "id": "741c66f2",
   "metadata": {},
   "outputs": [],
   "source": [
    "ctcz_yrly = np.array([7.2871447, 6.9551497, 6.3826294, 8.024538, 7.139179, 8.673258, 8.354882, 8.591435, 7.961072, 6.9573216, 8.546199, 8.250655, 8.200523, 8.942336, 6.8241377, 7.6388674, 8.549162, 7.0945683, 6.890301, 8.51846, 8.276254, 7.7689505])"
   ]
  },
  {
   "cell_type": "code",
   "execution_count": 12,
   "id": "bef6df19",
   "metadata": {},
   "outputs": [],
   "source": [
    "#total avg of 22 years\n",
    "ct = gen_find_files_ct('*.nc4', path)\n",
    "cz = gen_opener_ct(ct)"
   ]
  },
  {
   "cell_type": "code",
   "execution_count": 13,
   "id": "4461d331",
   "metadata": {},
   "outputs": [],
   "source": [
    "ctcz_mean = np.array(list(cz))"
   ]
  },
  {
   "cell_type": "code",
   "execution_count": 14,
   "id": "8d91af60",
   "metadata": {},
   "outputs": [],
   "source": [
    "ctcz_clim = np.mean(ctcz_mean)"
   ]
  },
  {
   "cell_type": "code",
   "execution_count": 15,
   "id": "4e2dd835",
   "metadata": {},
   "outputs": [
    {
     "data": {
      "text/plain": [
       "7.810044"
      ]
     },
     "execution_count": 15,
     "metadata": {},
     "output_type": "execute_result"
    }
   ],
   "source": [
    "ctcz_clim"
   ]
  },
  {
   "cell_type": "code",
   "execution_count": 6,
   "id": "825788a0",
   "metadata": {},
   "outputs": [],
   "source": [
    "ctcz_clim = 7.810044"
   ]
  },
  {
   "cell_type": "code",
   "execution_count": 10,
   "id": "f564bcae",
   "metadata": {},
   "outputs": [
    {
     "data": {
      "text/plain": [
       "7.81031924090909"
      ]
     },
     "execution_count": 10,
     "metadata": {},
     "output_type": "execute_result"
    }
   ],
   "source": [
    "ctcz_cli = ctcz_yrly.mean()\n",
    "ctcz_cli"
   ]
  },
  {
   "cell_type": "code",
   "execution_count": 9,
   "id": "b350a080",
   "metadata": {},
   "outputs": [],
   "source": [
    "ctcz_anom = ctcz_yrly - ctcz_clim"
   ]
  },
  {
   "cell_type": "code",
   "execution_count": 24,
   "id": "1378d919",
   "metadata": {},
   "outputs": [],
   "source": [
    "#standardization\n",
    "ctcz_stdd = ctcz_anom/ctcz_yrly.std()"
   ]
  },
  {
   "cell_type": "code",
   "execution_count": 14,
   "id": "5d42c4b7",
   "metadata": {},
   "outputs": [
    {
     "data": {
      "text/plain": [
       "array([-0.52317454, -0.85516954, -1.42768984,  0.21421876, -0.67114024,\n",
       "        0.86293876,  0.54456276,  0.78111576,  0.15075276, -0.85299764,\n",
       "        0.73587976,  0.44033576,  0.39020376,  1.13201676, -0.98618154,\n",
       "       -0.17145184,  0.73884276, -0.71575094, -0.92001824,  0.70814076,\n",
       "        0.46593476, -0.04136874])"
      ]
     },
     "execution_count": 14,
     "metadata": {},
     "output_type": "execute_result"
    }
   ],
   "source": [
    "ctcz_anom"
   ]
  },
  {
   "cell_type": "code",
   "execution_count": null,
   "id": "b8f06e13",
   "metadata": {},
   "outputs": [],
   "source": []
  },
  {
   "cell_type": "code",
   "execution_count": null,
   "id": "256cceec",
   "metadata": {},
   "outputs": [],
   "source": []
  },
  {
   "cell_type": "markdown",
   "id": "37573bef",
   "metadata": {},
   "source": [
    "### NINO3.4"
   ]
  },
  {
   "cell_type": "code",
   "execution_count": 19,
   "id": "f42e8dff",
   "metadata": {
    "collapsed": true
   },
   "outputs": [
    {
     "data": {
      "text/html": [
       "<div><svg style=\"position: absolute; width: 0; height: 0; overflow: hidden\">\n",
       "<defs>\n",
       "<symbol id=\"icon-database\" viewBox=\"0 0 32 32\">\n",
       "<path d=\"M16 0c-8.837 0-16 2.239-16 5v4c0 2.761 7.163 5 16 5s16-2.239 16-5v-4c0-2.761-7.163-5-16-5z\"></path>\n",
       "<path d=\"M16 17c-8.837 0-16-2.239-16-5v6c0 2.761 7.163 5 16 5s16-2.239 16-5v-6c0 2.761-7.163 5-16 5z\"></path>\n",
       "<path d=\"M16 26c-8.837 0-16-2.239-16-5v6c0 2.761 7.163 5 16 5s16-2.239 16-5v-6c0 2.761-7.163 5-16 5z\"></path>\n",
       "</symbol>\n",
       "<symbol id=\"icon-file-text2\" viewBox=\"0 0 32 32\">\n",
       "<path d=\"M28.681 7.159c-0.694-0.947-1.662-2.053-2.724-3.116s-2.169-2.030-3.116-2.724c-1.612-1.182-2.393-1.319-2.841-1.319h-15.5c-1.378 0-2.5 1.121-2.5 2.5v27c0 1.378 1.122 2.5 2.5 2.5h23c1.378 0 2.5-1.122 2.5-2.5v-19.5c0-0.448-0.137-1.23-1.319-2.841zM24.543 5.457c0.959 0.959 1.712 1.825 2.268 2.543h-4.811v-4.811c0.718 0.556 1.584 1.309 2.543 2.268zM28 29.5c0 0.271-0.229 0.5-0.5 0.5h-23c-0.271 0-0.5-0.229-0.5-0.5v-27c0-0.271 0.229-0.5 0.5-0.5 0 0 15.499-0 15.5 0v7c0 0.552 0.448 1 1 1h7v19.5z\"></path>\n",
       "<path d=\"M23 26h-14c-0.552 0-1-0.448-1-1s0.448-1 1-1h14c0.552 0 1 0.448 1 1s-0.448 1-1 1z\"></path>\n",
       "<path d=\"M23 22h-14c-0.552 0-1-0.448-1-1s0.448-1 1-1h14c0.552 0 1 0.448 1 1s-0.448 1-1 1z\"></path>\n",
       "<path d=\"M23 18h-14c-0.552 0-1-0.448-1-1s0.448-1 1-1h14c0.552 0 1 0.448 1 1s-0.448 1-1 1z\"></path>\n",
       "</symbol>\n",
       "</defs>\n",
       "</svg>\n",
       "<style>/* CSS stylesheet for displaying xarray objects in jupyterlab.\n",
       " *\n",
       " */\n",
       "\n",
       ":root {\n",
       "  --xr-font-color0: var(--jp-content-font-color0, rgba(0, 0, 0, 1));\n",
       "  --xr-font-color2: var(--jp-content-font-color2, rgba(0, 0, 0, 0.54));\n",
       "  --xr-font-color3: var(--jp-content-font-color3, rgba(0, 0, 0, 0.38));\n",
       "  --xr-border-color: var(--jp-border-color2, #e0e0e0);\n",
       "  --xr-disabled-color: var(--jp-layout-color3, #bdbdbd);\n",
       "  --xr-background-color: var(--jp-layout-color0, white);\n",
       "  --xr-background-color-row-even: var(--jp-layout-color1, white);\n",
       "  --xr-background-color-row-odd: var(--jp-layout-color2, #eeeeee);\n",
       "}\n",
       "\n",
       "html[theme=dark],\n",
       "body.vscode-dark {\n",
       "  --xr-font-color0: rgba(255, 255, 255, 1);\n",
       "  --xr-font-color2: rgba(255, 255, 255, 0.54);\n",
       "  --xr-font-color3: rgba(255, 255, 255, 0.38);\n",
       "  --xr-border-color: #1F1F1F;\n",
       "  --xr-disabled-color: #515151;\n",
       "  --xr-background-color: #111111;\n",
       "  --xr-background-color-row-even: #111111;\n",
       "  --xr-background-color-row-odd: #313131;\n",
       "}\n",
       "\n",
       ".xr-wrap {\n",
       "  display: block !important;\n",
       "  min-width: 300px;\n",
       "  max-width: 700px;\n",
       "}\n",
       "\n",
       ".xr-text-repr-fallback {\n",
       "  /* fallback to plain text repr when CSS is not injected (untrusted notebook) */\n",
       "  display: none;\n",
       "}\n",
       "\n",
       ".xr-header {\n",
       "  padding-top: 6px;\n",
       "  padding-bottom: 6px;\n",
       "  margin-bottom: 4px;\n",
       "  border-bottom: solid 1px var(--xr-border-color);\n",
       "}\n",
       "\n",
       ".xr-header > div,\n",
       ".xr-header > ul {\n",
       "  display: inline;\n",
       "  margin-top: 0;\n",
       "  margin-bottom: 0;\n",
       "}\n",
       "\n",
       ".xr-obj-type,\n",
       ".xr-array-name {\n",
       "  margin-left: 2px;\n",
       "  margin-right: 10px;\n",
       "}\n",
       "\n",
       ".xr-obj-type {\n",
       "  color: var(--xr-font-color2);\n",
       "}\n",
       "\n",
       ".xr-sections {\n",
       "  padding-left: 0 !important;\n",
       "  display: grid;\n",
       "  grid-template-columns: 150px auto auto 1fr 20px 20px;\n",
       "}\n",
       "\n",
       ".xr-section-item {\n",
       "  display: contents;\n",
       "}\n",
       "\n",
       ".xr-section-item input {\n",
       "  display: none;\n",
       "}\n",
       "\n",
       ".xr-section-item input + label {\n",
       "  color: var(--xr-disabled-color);\n",
       "}\n",
       "\n",
       ".xr-section-item input:enabled + label {\n",
       "  cursor: pointer;\n",
       "  color: var(--xr-font-color2);\n",
       "}\n",
       "\n",
       ".xr-section-item input:enabled + label:hover {\n",
       "  color: var(--xr-font-color0);\n",
       "}\n",
       "\n",
       ".xr-section-summary {\n",
       "  grid-column: 1;\n",
       "  color: var(--xr-font-color2);\n",
       "  font-weight: 500;\n",
       "}\n",
       "\n",
       ".xr-section-summary > span {\n",
       "  display: inline-block;\n",
       "  padding-left: 0.5em;\n",
       "}\n",
       "\n",
       ".xr-section-summary-in:disabled + label {\n",
       "  color: var(--xr-font-color2);\n",
       "}\n",
       "\n",
       ".xr-section-summary-in + label:before {\n",
       "  display: inline-block;\n",
       "  content: '►';\n",
       "  font-size: 11px;\n",
       "  width: 15px;\n",
       "  text-align: center;\n",
       "}\n",
       "\n",
       ".xr-section-summary-in:disabled + label:before {\n",
       "  color: var(--xr-disabled-color);\n",
       "}\n",
       "\n",
       ".xr-section-summary-in:checked + label:before {\n",
       "  content: '▼';\n",
       "}\n",
       "\n",
       ".xr-section-summary-in:checked + label > span {\n",
       "  display: none;\n",
       "}\n",
       "\n",
       ".xr-section-summary,\n",
       ".xr-section-inline-details {\n",
       "  padding-top: 4px;\n",
       "  padding-bottom: 4px;\n",
       "}\n",
       "\n",
       ".xr-section-inline-details {\n",
       "  grid-column: 2 / -1;\n",
       "}\n",
       "\n",
       ".xr-section-details {\n",
       "  display: none;\n",
       "  grid-column: 1 / -1;\n",
       "  margin-bottom: 5px;\n",
       "}\n",
       "\n",
       ".xr-section-summary-in:checked ~ .xr-section-details {\n",
       "  display: contents;\n",
       "}\n",
       "\n",
       ".xr-array-wrap {\n",
       "  grid-column: 1 / -1;\n",
       "  display: grid;\n",
       "  grid-template-columns: 20px auto;\n",
       "}\n",
       "\n",
       ".xr-array-wrap > label {\n",
       "  grid-column: 1;\n",
       "  vertical-align: top;\n",
       "}\n",
       "\n",
       ".xr-preview {\n",
       "  color: var(--xr-font-color3);\n",
       "}\n",
       "\n",
       ".xr-array-preview,\n",
       ".xr-array-data {\n",
       "  padding: 0 5px !important;\n",
       "  grid-column: 2;\n",
       "}\n",
       "\n",
       ".xr-array-data,\n",
       ".xr-array-in:checked ~ .xr-array-preview {\n",
       "  display: none;\n",
       "}\n",
       "\n",
       ".xr-array-in:checked ~ .xr-array-data,\n",
       ".xr-array-preview {\n",
       "  display: inline-block;\n",
       "}\n",
       "\n",
       ".xr-dim-list {\n",
       "  display: inline-block !important;\n",
       "  list-style: none;\n",
       "  padding: 0 !important;\n",
       "  margin: 0;\n",
       "}\n",
       "\n",
       ".xr-dim-list li {\n",
       "  display: inline-block;\n",
       "  padding: 0;\n",
       "  margin: 0;\n",
       "}\n",
       "\n",
       ".xr-dim-list:before {\n",
       "  content: '(';\n",
       "}\n",
       "\n",
       ".xr-dim-list:after {\n",
       "  content: ')';\n",
       "}\n",
       "\n",
       ".xr-dim-list li:not(:last-child):after {\n",
       "  content: ',';\n",
       "  padding-right: 5px;\n",
       "}\n",
       "\n",
       ".xr-has-index {\n",
       "  font-weight: bold;\n",
       "}\n",
       "\n",
       ".xr-var-list,\n",
       ".xr-var-item {\n",
       "  display: contents;\n",
       "}\n",
       "\n",
       ".xr-var-item > div,\n",
       ".xr-var-item label,\n",
       ".xr-var-item > .xr-var-name span {\n",
       "  background-color: var(--xr-background-color-row-even);\n",
       "  margin-bottom: 0;\n",
       "}\n",
       "\n",
       ".xr-var-item > .xr-var-name:hover span {\n",
       "  padding-right: 5px;\n",
       "}\n",
       "\n",
       ".xr-var-list > li:nth-child(odd) > div,\n",
       ".xr-var-list > li:nth-child(odd) > label,\n",
       ".xr-var-list > li:nth-child(odd) > .xr-var-name span {\n",
       "  background-color: var(--xr-background-color-row-odd);\n",
       "}\n",
       "\n",
       ".xr-var-name {\n",
       "  grid-column: 1;\n",
       "}\n",
       "\n",
       ".xr-var-dims {\n",
       "  grid-column: 2;\n",
       "}\n",
       "\n",
       ".xr-var-dtype {\n",
       "  grid-column: 3;\n",
       "  text-align: right;\n",
       "  color: var(--xr-font-color2);\n",
       "}\n",
       "\n",
       ".xr-var-preview {\n",
       "  grid-column: 4;\n",
       "}\n",
       "\n",
       ".xr-var-name,\n",
       ".xr-var-dims,\n",
       ".xr-var-dtype,\n",
       ".xr-preview,\n",
       ".xr-attrs dt {\n",
       "  white-space: nowrap;\n",
       "  overflow: hidden;\n",
       "  text-overflow: ellipsis;\n",
       "  padding-right: 10px;\n",
       "}\n",
       "\n",
       ".xr-var-name:hover,\n",
       ".xr-var-dims:hover,\n",
       ".xr-var-dtype:hover,\n",
       ".xr-attrs dt:hover {\n",
       "  overflow: visible;\n",
       "  width: auto;\n",
       "  z-index: 1;\n",
       "}\n",
       "\n",
       ".xr-var-attrs,\n",
       ".xr-var-data {\n",
       "  display: none;\n",
       "  background-color: var(--xr-background-color) !important;\n",
       "  padding-bottom: 5px !important;\n",
       "}\n",
       "\n",
       ".xr-var-attrs-in:checked ~ .xr-var-attrs,\n",
       ".xr-var-data-in:checked ~ .xr-var-data {\n",
       "  display: block;\n",
       "}\n",
       "\n",
       ".xr-var-data > table {\n",
       "  float: right;\n",
       "}\n",
       "\n",
       ".xr-var-name span,\n",
       ".xr-var-data,\n",
       ".xr-attrs {\n",
       "  padding-left: 25px !important;\n",
       "}\n",
       "\n",
       ".xr-attrs,\n",
       ".xr-var-attrs,\n",
       ".xr-var-data {\n",
       "  grid-column: 1 / -1;\n",
       "}\n",
       "\n",
       "dl.xr-attrs {\n",
       "  padding: 0;\n",
       "  margin: 0;\n",
       "  display: grid;\n",
       "  grid-template-columns: 125px auto;\n",
       "}\n",
       "\n",
       ".xr-attrs dt,\n",
       ".xr-attrs dd {\n",
       "  padding: 0;\n",
       "  margin: 0;\n",
       "  float: left;\n",
       "  padding-right: 10px;\n",
       "  width: auto;\n",
       "}\n",
       "\n",
       ".xr-attrs dt {\n",
       "  font-weight: normal;\n",
       "  grid-column: 1;\n",
       "}\n",
       "\n",
       ".xr-attrs dt:hover span {\n",
       "  display: inline-block;\n",
       "  background: var(--xr-background-color);\n",
       "  padding-right: 10px;\n",
       "}\n",
       "\n",
       ".xr-attrs dd {\n",
       "  grid-column: 2;\n",
       "  white-space: pre-wrap;\n",
       "  word-break: break-all;\n",
       "}\n",
       "\n",
       ".xr-icon-database,\n",
       ".xr-icon-file-text2 {\n",
       "  display: inline-block;\n",
       "  vertical-align: middle;\n",
       "  width: 1em;\n",
       "  height: 1.5em !important;\n",
       "  stroke-width: 0;\n",
       "  stroke: currentColor;\n",
       "  fill: currentColor;\n",
       "}\n",
       "</style><pre class='xr-text-repr-fallback'>&lt;xarray.DataArray &#x27;precipitationCal&#x27; (lon: 500, lat: 100)&gt;\n",
       "array([[ 0.135351,  0.057056,  0.074214, ...,  1.866383,  2.104361,  2.447315],\n",
       "       [ 0.067222,  0.046649,  0.064498, ...,  0.984402,  1.564437,  2.12359 ],\n",
       "       [ 0.08951 ,  0.039489,  0.05238 , ...,  1.108986,  1.151028,  1.483484],\n",
       "       ...,\n",
       "       [ 0.      ,  0.      ,  0.      , ...,  5.239247,  7.925328, 15.292285],\n",
       "       [ 0.      ,  0.      ,  0.      , ...,  4.651439,  5.921198, 10.444673],\n",
       "       [ 0.      ,  0.      ,  0.      , ...,  3.33505 ,  4.036134,  6.010493]],\n",
       "      dtype=float32)\n",
       "Coordinates:\n",
       "  * lon      (lon) float32 -169.9 -169.8 -169.8 -169.6 ... -120.2 -120.1 -120.0\n",
       "  * lat      (lat) float32 -4.95 -4.85 -4.75 -4.65 -4.55 ... 4.65 4.75 4.85 4.95\n",
       "    time     object 2001-06-03 00:00:00\n",
       "Attributes:\n",
       "    units:      mm\n",
       "    long_name:  Daily accumulated precipitation (combined microwave-IR) estimate</pre><div class='xr-wrap' style='display:none'><div class='xr-header'><div class='xr-obj-type'>xarray.DataArray</div><div class='xr-array-name'>'precipitationCal'</div><ul class='xr-dim-list'><li><span class='xr-has-index'>lon</span>: 500</li><li><span class='xr-has-index'>lat</span>: 100</li></ul></div><ul class='xr-sections'><li class='xr-section-item'><div class='xr-array-wrap'><input id='section-9ad2e09a-0e36-4557-a6d9-5760f53dac74' class='xr-array-in' type='checkbox' checked><label for='section-9ad2e09a-0e36-4557-a6d9-5760f53dac74' title='Show/hide data repr'><svg class='icon xr-icon-database'><use xlink:href='#icon-database'></use></svg></label><div class='xr-array-preview xr-preview'><span>0.1354 0.05706 0.07421 0.0521 0.01453 ... 2.252 2.682 3.335 4.036 6.01</span></div><div class='xr-array-data'><pre>array([[ 0.135351,  0.057056,  0.074214, ...,  1.866383,  2.104361,  2.447315],\n",
       "       [ 0.067222,  0.046649,  0.064498, ...,  0.984402,  1.564437,  2.12359 ],\n",
       "       [ 0.08951 ,  0.039489,  0.05238 , ...,  1.108986,  1.151028,  1.483484],\n",
       "       ...,\n",
       "       [ 0.      ,  0.      ,  0.      , ...,  5.239247,  7.925328, 15.292285],\n",
       "       [ 0.      ,  0.      ,  0.      , ...,  4.651439,  5.921198, 10.444673],\n",
       "       [ 0.      ,  0.      ,  0.      , ...,  3.33505 ,  4.036134,  6.010493]],\n",
       "      dtype=float32)</pre></div></div></li><li class='xr-section-item'><input id='section-2a038c32-59d4-407e-892e-10897ccb3018' class='xr-section-summary-in' type='checkbox'  checked><label for='section-2a038c32-59d4-407e-892e-10897ccb3018' class='xr-section-summary' >Coordinates: <span>(3)</span></label><div class='xr-section-inline-details'></div><div class='xr-section-details'><ul class='xr-var-list'><li class='xr-var-item'><div class='xr-var-name'><span class='xr-has-index'>lon</span></div><div class='xr-var-dims'>(lon)</div><div class='xr-var-dtype'>float32</div><div class='xr-var-preview xr-preview'>-169.9 -169.8 ... -120.1 -120.0</div><input id='attrs-5b946b7d-03e7-485c-9873-58de63d75c6d' class='xr-var-attrs-in' type='checkbox' ><label for='attrs-5b946b7d-03e7-485c-9873-58de63d75c6d' title='Show/Hide attributes'><svg class='icon xr-icon-file-text2'><use xlink:href='#icon-file-text2'></use></svg></label><input id='data-92380a1f-1e06-49a2-8e2e-da47178854cc' class='xr-var-data-in' type='checkbox'><label for='data-92380a1f-1e06-49a2-8e2e-da47178854cc' title='Show/Hide data repr'><svg class='icon xr-icon-database'><use xlink:href='#icon-database'></use></svg></label><div class='xr-var-attrs'><dl class='xr-attrs'><dt><span>units :</span></dt><dd>degrees_east</dd><dt><span>long_name :</span></dt><dd>Longitude</dd></dl></div><div class='xr-var-data'><pre>array([-169.95    , -169.84999 , -169.75    , ..., -120.25    , -120.149994,\n",
       "       -120.049995], dtype=float32)</pre></div></li><li class='xr-var-item'><div class='xr-var-name'><span class='xr-has-index'>lat</span></div><div class='xr-var-dims'>(lat)</div><div class='xr-var-dtype'>float32</div><div class='xr-var-preview xr-preview'>-4.95 -4.85 -4.75 ... 4.85 4.95</div><input id='attrs-9d5bf13b-169d-4dd3-ba80-1031b2433476' class='xr-var-attrs-in' type='checkbox' ><label for='attrs-9d5bf13b-169d-4dd3-ba80-1031b2433476' title='Show/Hide attributes'><svg class='icon xr-icon-file-text2'><use xlink:href='#icon-file-text2'></use></svg></label><input id='data-1f1a9304-37f7-4939-bcd0-530077d393b4' class='xr-var-data-in' type='checkbox'><label for='data-1f1a9304-37f7-4939-bcd0-530077d393b4' title='Show/Hide data repr'><svg class='icon xr-icon-database'><use xlink:href='#icon-database'></use></svg></label><div class='xr-var-attrs'><dl class='xr-attrs'><dt><span>units :</span></dt><dd>degrees_north</dd><dt><span>long_name :</span></dt><dd>Latitude</dd></dl></div><div class='xr-var-data'><pre>array([-4.95    , -4.850001, -4.749995, -4.649997, -4.549998, -4.45    ,\n",
       "       -4.350001, -4.249995, -4.149997, -4.049998, -3.95    , -3.850002,\n",
       "       -3.749995, -3.649997, -3.549999, -3.45    , -3.350002, -3.249995,\n",
       "       -3.149997, -3.049999, -2.95    , -2.850002, -2.749995, -2.649997,\n",
       "       -2.549999, -2.45    , -2.350002, -2.249995, -2.149997, -2.049999,\n",
       "       -1.95    , -1.850002, -1.749995, -1.649997, -1.549999, -1.45    ,\n",
       "       -1.350002, -1.249995, -1.149997, -1.049999, -0.95    , -0.850002,\n",
       "       -0.749995, -0.649997, -0.549998, -0.45    , -0.350002, -0.249995,\n",
       "       -0.149997, -0.049998,  0.05    ,  0.149998,  0.250005,  0.350003,\n",
       "        0.450002,  0.55    ,  0.649998,  0.750005,  0.850003,  0.950002,\n",
       "        1.05    ,  1.149998,  1.250005,  1.350003,  1.450001,  1.55    ,\n",
       "        1.649998,  1.750005,  1.850003,  1.950001,  2.05    ,  2.149998,\n",
       "        2.250005,  2.350003,  2.450001,  2.55    ,  2.649998,  2.750005,\n",
       "        2.850003,  2.950001,  3.05    ,  3.149998,  3.250005,  3.350003,\n",
       "        3.450001,  3.55    ,  3.649998,  3.750005,  3.850003,  3.950001,\n",
       "        4.05    ,  4.149999,  4.250005,  4.350003,  4.450002,  4.55    ,\n",
       "        4.649999,  4.750005,  4.850003,  4.950002], dtype=float32)</pre></div></li><li class='xr-var-item'><div class='xr-var-name'><span>time</span></div><div class='xr-var-dims'>()</div><div class='xr-var-dtype'>object</div><div class='xr-var-preview xr-preview'>2001-06-03 00:00:00</div><input id='attrs-b80288cc-36ad-44a2-9468-d86735860f82' class='xr-var-attrs-in' type='checkbox' ><label for='attrs-b80288cc-36ad-44a2-9468-d86735860f82' title='Show/Hide attributes'><svg class='icon xr-icon-file-text2'><use xlink:href='#icon-file-text2'></use></svg></label><input id='data-2f574b32-2d2f-453d-aeb9-4d430031ab65' class='xr-var-data-in' type='checkbox'><label for='data-2f574b32-2d2f-453d-aeb9-4d430031ab65' title='Show/Hide data repr'><svg class='icon xr-icon-database'><use xlink:href='#icon-database'></use></svg></label><div class='xr-var-attrs'><dl class='xr-attrs'><dt><span>standard_name :</span></dt><dd>time</dd><dt><span>bounds :</span></dt><dd>time_bnds</dd></dl></div><div class='xr-var-data'><pre>array(cftime.DatetimeJulian(2001, 6, 3, 0, 0, 0, 0, has_year_zero=False),\n",
       "      dtype=object)</pre></div></li></ul></div></li><li class='xr-section-item'><input id='section-b3754395-dd28-4a14-a9e9-cff9101f1a77' class='xr-section-summary-in' type='checkbox'  checked><label for='section-b3754395-dd28-4a14-a9e9-cff9101f1a77' class='xr-section-summary' >Attributes: <span>(2)</span></label><div class='xr-section-inline-details'></div><div class='xr-section-details'><dl class='xr-attrs'><dt><span>units :</span></dt><dd>mm</dd><dt><span>long_name :</span></dt><dd>Daily accumulated precipitation (combined microwave-IR) estimate</dd></dl></div></li></ul></div></div>"
      ],
      "text/plain": [
       "<xarray.DataArray 'precipitationCal' (lon: 500, lat: 100)>\n",
       "array([[ 0.135351,  0.057056,  0.074214, ...,  1.866383,  2.104361,  2.447315],\n",
       "       [ 0.067222,  0.046649,  0.064498, ...,  0.984402,  1.564437,  2.12359 ],\n",
       "       [ 0.08951 ,  0.039489,  0.05238 , ...,  1.108986,  1.151028,  1.483484],\n",
       "       ...,\n",
       "       [ 0.      ,  0.      ,  0.      , ...,  5.239247,  7.925328, 15.292285],\n",
       "       [ 0.      ,  0.      ,  0.      , ...,  4.651439,  5.921198, 10.444673],\n",
       "       [ 0.      ,  0.      ,  0.      , ...,  3.33505 ,  4.036134,  6.010493]],\n",
       "      dtype=float32)\n",
       "Coordinates:\n",
       "  * lon      (lon) float32 -169.9 -169.8 -169.8 -169.6 ... -120.2 -120.1 -120.0\n",
       "  * lat      (lat) float32 -4.95 -4.85 -4.75 -4.65 -4.55 ... 4.65 4.75 4.85 4.95\n",
       "    time     object 2001-06-03 00:00:00\n",
       "Attributes:\n",
       "    units:      mm\n",
       "    long_name:  Daily accumulated precipitation (combined microwave-IR) estimate"
      ]
     },
     "execution_count": 19,
     "metadata": {},
     "output_type": "execute_result"
    }
   ],
   "source": [
    "sample = sam.precipitationCal[0,:,:].sel(lat=slice(-5, 5), lon=slice(-170, -120))\n",
    "sample"
   ]
  },
  {
   "cell_type": "code",
   "execution_count": 21,
   "id": "5122855e",
   "metadata": {},
   "outputs": [],
   "source": [
    "def gen_find_files_ni(filepatt, top):\n",
    "    \n",
    "    for path, dirlist, filelist in os.walk(top):\n",
    "        for name in fnmatch.filter(filelist, filepatt):\n",
    "            yield os.path.join(path, name)\n",
    "            \n",
    "            \n",
    "def gen_opener_nino(filenames):\n",
    "    \n",
    "    for filename in filenames:\n",
    "        if filename.endswith('.nc4'):\n",
    "            f = xr.open_dataset(filename)\n",
    "            nino_mean = np.mean(f.precipitationCal[0,:,:].sel(lat=slice(-5, 5), lon=slice(-170, -120)).values)\n",
    "            \n",
    "        yield nino_mean\n"
   ]
  },
  {
   "cell_type": "code",
   "execution_count": 24,
   "id": "251c9867",
   "metadata": {},
   "outputs": [],
   "source": [
    "ni = gen_find_files_ni('*.nc4', path)\n",
    "no = gen_opener_nino(ni)"
   ]
  },
  {
   "cell_type": "code",
   "execution_count": 17,
   "id": "c0d70e2f",
   "metadata": {},
   "outputs": [
    {
     "ename": "NameError",
     "evalue": "name 'no' is not defined",
     "output_type": "error",
     "traceback": [
      "\u001b[0;31m---------------------------------------------------------------------------\u001b[0m",
      "\u001b[0;31mNameError\u001b[0m                                 Traceback (most recent call last)",
      "\u001b[0;32m/tmp/ipykernel_77697/409220860.py\u001b[0m in \u001b[0;36m<cell line: 1>\u001b[0;34m()\u001b[0m\n\u001b[0;32m----> 1\u001b[0;31m \u001b[0mnino_mean\u001b[0m \u001b[0;34m=\u001b[0m \u001b[0mnp\u001b[0m\u001b[0;34m.\u001b[0m\u001b[0marray\u001b[0m\u001b[0;34m(\u001b[0m\u001b[0mlist\u001b[0m\u001b[0;34m(\u001b[0m\u001b[0mno\u001b[0m\u001b[0;34m)\u001b[0m\u001b[0;34m)\u001b[0m\u001b[0;34m\u001b[0m\u001b[0;34m\u001b[0m\u001b[0m\n\u001b[0m",
      "\u001b[0;31mNameError\u001b[0m: name 'no' is not defined"
     ]
    }
   ],
   "source": [
    "nino_mean = np.array(list(no))"
   ]
  },
  {
   "cell_type": "code",
   "execution_count": 26,
   "id": "6b402c13",
   "metadata": {},
   "outputs": [
    {
     "data": {
      "text/plain": [
       "1.1367409"
      ]
     },
     "execution_count": 26,
     "metadata": {},
     "output_type": "execute_result"
    }
   ],
   "source": [
    "nino_clim = np.mean(nino_mean)\n",
    "nino_clim"
   ]
  },
  {
   "cell_type": "code",
   "execution_count": 1,
   "id": "a53070f9",
   "metadata": {},
   "outputs": [],
   "source": [
    "nino_clim = 1.1367409"
   ]
  },
  {
   "cell_type": "code",
   "execution_count": 3,
   "id": "87cf172a",
   "metadata": {},
   "outputs": [],
   "source": [
    "nino_yearly = np.array([0.78603846, 0.96707565, 1.9397724, 0.6491788, 1.1310894, 1.1369839, 1.1851085, 0.58902943, 1.0805206, 1.8587512, 0.34067497, 1.1755369, 1.7347848, 0.5450486, 1.3505951, 4.3490596, 0.39365634, 0.89861125, 0.8322839, 1.0137532, 0.3923789, 0.65227866])"
   ]
  },
  {
   "cell_type": "code",
   "execution_count": 4,
   "id": "4cc37613",
   "metadata": {},
   "outputs": [
    {
     "data": {
      "text/plain": [
       "array([-3.5070244e-01, -1.6966525e-01,  8.0303150e-01, -4.8756210e-01,\n",
       "       -5.6515000e-03,  2.4300000e-04,  4.8367600e-02, -5.4771147e-01,\n",
       "       -5.6220300e-02,  7.2201030e-01, -7.9606593e-01,  3.8796000e-02,\n",
       "        5.9804390e-01, -5.9169230e-01,  2.1385420e-01,  3.2123187e+00,\n",
       "       -7.4308456e-01, -2.3812965e-01, -3.0445700e-01, -1.2298770e-01,\n",
       "       -7.4436200e-01, -4.8446224e-01])"
      ]
     },
     "execution_count": 4,
     "metadata": {},
     "output_type": "execute_result"
    }
   ],
   "source": [
    "nino_anom = nino_yearly - nino_clim"
   ]
  },
  {
   "cell_type": "code",
   "execution_count": 25,
   "id": "d2df07d2",
   "metadata": {},
   "outputs": [],
   "source": [
    "#standardization\n",
    "nino_stdd = nino_anom/nino_yearly.std()"
   ]
  },
  {
   "cell_type": "markdown",
   "id": "e4e91649",
   "metadata": {},
   "source": [
    "### Scatter"
   ]
  },
  {
   "cell_type": "code",
   "execution_count": 10,
   "id": "a3425c2d",
   "metadata": {},
   "outputs": [],
   "source": [
    "%matplotlib inline\n",
    "import matplotlib.pyplot as plt\n",
    "import seaborn as sns"
   ]
  },
  {
   "cell_type": "code",
   "execution_count": 29,
   "id": "e0cb05f1",
   "metadata": {
    "collapsed": true
   },
   "outputs": [
    {
     "data": {
      "text/plain": [
       "[2000,\n",
       " 2001,\n",
       " 2002,\n",
       " 2003,\n",
       " 2004,\n",
       " 2005,\n",
       " 2006,\n",
       " 2007,\n",
       " 2008,\n",
       " 2009,\n",
       " 2010,\n",
       " 2011,\n",
       " 2012,\n",
       " 2013,\n",
       " 2014,\n",
       " 2015,\n",
       " 2016,\n",
       " 2017,\n",
       " 2018,\n",
       " 2019,\n",
       " 2020,\n",
       " 2021]"
      ]
     },
     "execution_count": 29,
     "metadata": {},
     "output_type": "execute_result"
    }
   ],
   "source": [
    "yr = list(range(2000, 2022))\n"
   ]
  },
  {
   "cell_type": "code",
   "execution_count": 30,
   "id": "b3203735",
   "metadata": {
    "collapsed": true
   },
   "outputs": [
    {
     "data": {
      "text/plain": [
       "['00',\n",
       " '01',\n",
       " '02',\n",
       " '03',\n",
       " '04',\n",
       " '05',\n",
       " '06',\n",
       " '07',\n",
       " '08',\n",
       " '09',\n",
       " '10',\n",
       " '11',\n",
       " '12',\n",
       " '13',\n",
       " '14',\n",
       " '15',\n",
       " '16',\n",
       " '17',\n",
       " '18',\n",
       " '19',\n",
       " '20',\n",
       " '21']"
      ]
     },
     "execution_count": 30,
     "metadata": {},
     "output_type": "execute_result"
    }
   ],
   "source": [
    "str_yr = ['{}'.format(tex) for tex in yr]\n",
    "strg_yr = ['{}'.format(t[2:4]) for t in str_yr]\n",
    "strg_yr"
   ]
  },
  {
   "cell_type": "code",
   "execution_count": 35,
   "id": "7ac364a3",
   "metadata": {},
   "outputs": [
    {
     "data": {
      "text/plain": [
       "22"
      ]
     },
     "execution_count": 35,
     "metadata": {},
     "output_type": "execute_result"
    }
   ],
   "source": [
    "len(nino_stdd)"
   ]
  },
  {
   "cell_type": "code",
   "execution_count": 36,
   "id": "1e93022b",
   "metadata": {},
   "outputs": [
    {
     "data": {
      "text/plain": [
       "22"
      ]
     },
     "execution_count": 36,
     "metadata": {},
     "output_type": "execute_result"
    }
   ],
   "source": [
    "len(ctcz_stdd)"
   ]
  },
  {
   "cell_type": "code",
   "execution_count": 37,
   "id": "4c719ae8",
   "metadata": {},
   "outputs": [
    {
     "data": {
      "text/plain": [
       "22"
      ]
     },
     "execution_count": 37,
     "metadata": {},
     "output_type": "execute_result"
    }
   ],
   "source": [
    "len(strg_yr)"
   ]
  },
  {
   "cell_type": "code",
   "execution_count": 32,
   "id": "2f3881dc",
   "metadata": {
    "collapsed": true
   },
   "outputs": [
    {
     "name": "stdout",
     "output_type": "stream",
     "text": [
      "0 00\n",
      "1 01\n",
      "2 02\n",
      "3 03\n",
      "4 04\n",
      "5 05\n",
      "6 06\n",
      "7 07\n",
      "8 08\n",
      "9 09\n",
      "10 10\n",
      "11 11\n",
      "12 12\n",
      "13 13\n",
      "14 14\n",
      "15 15\n",
      "16 16\n",
      "17 17\n",
      "18 18\n",
      "19 19\n",
      "20 20\n",
      "21 21\n"
     ]
    }
   ],
   "source": [
    "for i, text in enumerate(strg_yr):\n",
    "    print(text)"
   ]
  },
  {
   "cell_type": "code",
   "execution_count": null,
   "id": "9531563e",
   "metadata": {},
   "outputs": [],
   "source": []
  },
  {
   "cell_type": "code",
   "execution_count": null,
   "id": "ba32a27b",
   "metadata": {},
   "outputs": [],
   "source": []
  },
  {
   "cell_type": "code",
   "execution_count": 49,
   "id": "1d42b838",
   "metadata": {},
   "outputs": [
    {
     "data": {
      "image/png": "[encoded data removed]",
      "text/plain": [
       "<Figure size 3200x1600 with 1 Axes>"
      ]
     },
     "metadata": {
      "needs_background": "light"
     },
     "output_type": "display_data"
    }
   ],
   "source": [
    "fig = plt.figure(dpi=400, figsize=(8,4))\n",
    "ax = plt.axes()\n",
    "\n",
    "#set title and plot the data\n",
    "ax.set_title('CTCZ vs NINO3.4 (standardized anomaly)')\n",
    "ax.plot(ctcz_stdd, nino_stdd, '.', color='black' )\n",
    "\n",
    "#add linear regression line to scatterplot \n",
    "m, b = np.polyfit(ctcz_stdd, nino_stdd, 1)\n",
    "plt.plot(ctcz_stdd, m*ctcz_stdd+b) #color='black'\n",
    "\n",
    "#labelling axes and setting limits\n",
    "ax.set(xlim=(-2.5, 2.5), ylim=(-3, 4.5), xlabel='CTCZ', ylabel='NINO3.4') #xlim=(-2, 2), ylim=(-2, 2), xticks=(np.arange(-2, 2, 0.5)), yticks=(np.arange(-2, 2, 0.5))\n",
    "\n",
    "#text box\n",
    "props = dict(boxstyle='round', facecolor='white', alpha=0.5)\n",
    "ax.text(0.70, 0.90, 'correlation = -0.3175 \\nR-squared  =  0.1008', transform=ax.transAxes, fontsize=10,\n",
    "        verticalalignment='top', bbox=props)\n",
    "\n",
    "ax.text(0.95, 1.01, 'GPM', va='bottom', ha='center',\n",
    "        rotation='horizontal', rotation_mode='anchor',\n",
    "        transform=ax.transAxes)\n",
    "\n",
    "#annotation\n",
    "for i, txt in enumerate(strg_yr):\n",
    "    ax.annotate(txt, (ctcz_stdd[i], nino_stdd[i]), fontsize=6)\n",
    "\n",
    "\n",
    "\n",
    ";\n",
    "\n",
    "#plt.savefig('/home/amal/dir/scatter/ctcz_vs_nino3.4_gpm_rainfall_standardized_anomaly.jpg', dpi=400, bbox_inches='tight')\n",
    "#plt.savefig('ctcz_vs_wpac.jpg', dpi=400, bbox_inches='tight')"
   ]
  },
  {
   "cell_type": "code",
   "execution_count": 48,
   "id": "1c1e70fa",
   "metadata": {
    "scrolled": true
   },
   "outputs": [
    {
     "data": {
      "text/plain": [
       "<AxesSubplot:>"
      ]
     },
     "execution_count": 48,
     "metadata": {},
     "output_type": "execute_result"
    },
    {
     "data": {
      "image/png": "[encoded data removed]",
      "text/plain": [
       "<Figure size 432x288 with 1 Axes>"
      ]
     },
     "metadata": {
      "needs_background": "light"
     },
     "output_type": "display_data"
    }
   ],
   "source": [
    "sns.regplot(ctcz_anom, nino_anom)"
   ]
  },
  {
   "cell_type": "code",
   "execution_count": null,
   "id": "6a4ec946",
   "metadata": {},
   "outputs": [],
   "source": []
  },
  {
   "cell_type": "code",
   "execution_count": 47,
   "id": "0715b14c",
   "metadata": {},
   "outputs": [
    {
     "data": {
      "text/plain": [
       "array([[ 1.       , -0.3175083],\n",
       "       [-0.3175083,  1.       ]])"
      ]
     },
     "execution_count": 47,
     "metadata": {},
     "output_type": "execute_result"
    }
   ],
   "source": [
    "np.corrcoef(ctcz_stdd, nino_stdd)"
   ]
  },
  {
   "cell_type": "code",
   "execution_count": 13,
   "id": "29b4a207",
   "metadata": {},
   "outputs": [],
   "source": [
    "from scipy import stats"
   ]
  },
  {
   "cell_type": "code",
   "execution_count": 14,
   "id": "972be354",
   "metadata": {},
   "outputs": [
    {
     "data": {
      "text/plain": [
       "(-0.31750829714084067, 0.14989974027153938)"
      ]
     },
     "execution_count": 14,
     "metadata": {},
     "output_type": "execute_result"
    }
   ],
   "source": [
    "stats.pearsonr(ctcz_anom, nino_anom)"
   ]
  },
  {
   "cell_type": "code",
   "execution_count": 15,
   "id": "ed67102b",
   "metadata": {},
   "outputs": [],
   "source": [
    "res = stats.linregress(ctcz_anom, nino_anom)"
   ]
  },
  {
   "cell_type": "code",
   "execution_count": 16,
   "id": "2813e9ca",
   "metadata": {},
   "outputs": [
    {
     "data": {
      "text/plain": [
       "0.10081151875327637"
      ]
     },
     "execution_count": 16,
     "metadata": {},
     "output_type": "execute_result"
    }
   ],
   "source": [
    "res.rvalue**2"
   ]
  },
  {
   "cell_type": "code",
   "execution_count": null,
   "id": "cc52ae84",
   "metadata": {},
   "outputs": [],
   "source": []
  },
  {
   "cell_type": "code",
   "execution_count": null,
   "id": "2249f5e1",
   "metadata": {},
   "outputs": [],
   "source": []
  },
  {
   "cell_type": "code",
   "execution_count": null,
   "id": "f3165f03",
   "metadata": {},
   "outputs": [],
   "source": []
  },
  {
   "cell_type": "code",
   "execution_count": null,
   "id": "fe414052",
   "metadata": {},
   "outputs": [],
   "source": []
  },
  {
   "cell_type": "code",
   "execution_count": null,
   "id": "f46415bf",
   "metadata": {},
   "outputs": [],
   "source": []
  },
  {
   "cell_type": "code",
   "execution_count": null,
   "id": "39ffed11",
   "metadata": {},
   "outputs": [],
   "source": []
  },
  {
   "cell_type": "code",
   "execution_count": null,
   "id": "8ebe32b9",
   "metadata": {},
   "outputs": [],
   "source": []
  }
 ],
 "metadata": {
  "kernelspec": {
   "display_name": "Python [conda env:pangeo] *",
   "language": "python",
   "name": "conda-env-pangeo-py"
  },
  "language_info": {
   "codemirror_mode": {
    "name": "ipython",
    "version": 3
   },
   "file_extension": ".py",
   "mimetype": "text/x-python",
   "name": "python",
   "nbconvert_exporter": "python",
   "pygments_lexer": "ipython3",
   "version": "3.9.10"
  }
 },
 "nbformat": 4,
 "nbformat_minor": 5
}
